{
  "nbformat": 4,
  "nbformat_minor": 0,
  "metadata": {
    "colab": {
      "provenance": [],
      "authorship_tag": "ABX9TyMVjD9pZRZC0Mq6Hpvv/d23",
      "include_colab_link": true
    },
    "kernelspec": {
      "name": "python3",
      "display_name": "Python 3"
    },
    "language_info": {
      "name": "python"
    }
  },
  "cells": [
    {
      "cell_type": "markdown",
      "metadata": {
        "id": "view-in-github",
        "colab_type": "text"
      },
      "source": [
        "<a href=\"https://colab.research.google.com/github/EricCostaDev/python-system-codes/blob/main/multiprocessing.ipynb\" target=\"_parent\"><img src=\"https://colab.research.google.com/assets/colab-badge.svg\" alt=\"Open In Colab\"/></a>"
      ]
    },
    {
      "cell_type": "markdown",
      "source": [
        "Simple multiprocessing"
      ],
      "metadata": {
        "id": "op9znfaTKpSA"
      }
    },
    {
      "cell_type": "code",
      "execution_count": null,
      "metadata": {
        "id": "_XVX37wtJ7re"
      },
      "outputs": [],
      "source": [
        "import multiprocessing\n",
        "\n",
        "def task1():\n",
        "    print('Task One')\n",
        "    pass\n",
        "\n",
        "def task2():\n",
        "    print(\"Task two\")\n",
        "    pass\n",
        "\n",
        "if __name__ == '__main__':\n",
        "    # Create two processes, one for each task\n",
        "    p1 = multiprocessing.Process(target=task1)\n",
        "    p2 = multiprocessing.Process(target=task2)\n",
        "\n",
        "    # Start the processes\n",
        "    p1.start()\n",
        "    p2.start()\n",
        "\n",
        "    # Wait for the processes to complete\n",
        "    p1.join()\n",
        "    p2.join()\n",
        "\n",
        "    # Print a message when both processes are done\n",
        "    print(\"Both tasks are done!\")\n"
      ]
    },
    {
      "cell_type": "markdown",
      "source": [
        "Other type of multiprocessing"
      ],
      "metadata": {
        "id": "Ho2Qr721KsnK"
      }
    },
    {
      "cell_type": "code",
      "source": [
        "!pip install nest_asyncio"
      ],
      "metadata": {
        "id": "B3FN2IkrLPX3"
      },
      "execution_count": null,
      "outputs": []
    },
    {
      "cell_type": "code",
      "source": [
        "import nest_asyncio\n",
        "nest_asyncio.apply()\n",
        "\n",
        "import asyncio\n",
        "\n",
        "async def task1():\n",
        "    # Code for task 1\n",
        "    print(\"Task 1 started\")\n",
        "    await asyncio.sleep(1)  # Simulate a long-running task\n",
        "    print(\"Task 1 done\")\n",
        "\n",
        "async def task2():\n",
        "    # Code for task 2\n",
        "    print(\"Task 2 started\")\n",
        "    await asyncio.sleep(1)  # Simulate a long-running task\n",
        "    print(\"Task 2 done\")\n",
        "\n",
        "async def main():\n",
        "    # Start both tasks as asynchronous coroutines\n",
        "    t1 = asyncio.create_task(task1())\n",
        "    t2 = asyncio.create_task(task2())\n",
        "\n",
        "    # Wait for both tasks to complete\n",
        "    await asyncio.gather(t1, t2)\n",
        "    \n",
        "    # Print a message when both tasks are done\n",
        "    print(\"Both tasks are done!\")\n",
        "\n",
        "# Run the main coroutine\n",
        "asyncio.run(main())"
      ],
      "metadata": {
        "id": "Y1LxBG09LHSk"
      },
      "execution_count": null,
      "outputs": []
    },
    {
      "cell_type": "markdown",
      "source": [
        "A more complex utilization of multiprocessing"
      ],
      "metadata": {
        "id": "AaM9EBA2L5Rm"
      }
    },
    {
      "cell_type": "code",
      "source": [
        "import multiprocessing\n",
        "import threading\n",
        "\n",
        "def run_task(task_num):\n",
        "    print(f\"Starting task {task_num} on thread {threading.current_thread().name} in process {multiprocessing.current_process().name}\")\n",
        "    # do some work...\n",
        "    print(f\"Finished task {task_num} on thread {threading.current_thread().name} in process {multiprocessing.current_process().name}\")\n",
        "\n",
        "def run_process(process_num):\n",
        "    print(f\"Starting process {process_num}\")\n",
        "    for thread_num in range(1, 4):\n",
        "        thread = threading.Thread(target=run_task, args=(f\"task_{thread_num}\",))\n",
        "        thread.start()\n",
        "    print(f\"Finished all tasks in process {process_num}\")\n",
        "\n",
        "if __name__ == \"__main__\":\n",
        "    num_processes = 2\n",
        "    processes = []\n",
        "    for i in range(num_processes):\n",
        "        process = multiprocessing.Process(target=run_process, args=(f\"process_{i}\",))\n",
        "        process.start()\n",
        "        processes.append(process)\n",
        "\n",
        "    for process in processes:\n",
        "        process.join()\n"
      ],
      "metadata": {
        "id": "muXHjvAjLz5X"
      },
      "execution_count": null,
      "outputs": []
    }
  ]
}