{
  "nbformat": 4,
  "nbformat_minor": 0,
  "metadata": {
    "colab": {
      "provenance": [],
      "authorship_tag": "ABX9TyPMTU6Y2H2qqv5ivrlIo47F",
      "include_colab_link": true
    },
    "kernelspec": {
      "name": "python3",
      "display_name": "Python 3"
    },
    "language_info": {
      "name": "python"
    }
  },
  "cells": [
    {
      "cell_type": "markdown",
      "metadata": {
        "id": "view-in-github",
        "colab_type": "text"
      },
      "source": [
        "<a href=\"https://colab.research.google.com/github/EricCostaDev/python-system-codes/blob/main/get_system_info.ipynb\" target=\"_parent\"><img src=\"https://colab.research.google.com/assets/colab-badge.svg\" alt=\"Open In Colab\"/></a>"
      ]
    },
    {
      "cell_type": "code",
      "source": [
        "!pip install distro"
      ],
      "metadata": {
        "id": "h2lBU-ZCC7tb"
      },
      "execution_count": null,
      "outputs": []
    },
    {
      "cell_type": "code",
      "execution_count": null,
      "metadata": {
        "id": "n_BQrL_HCAvs"
      },
      "outputs": [],
      "source": [
        "import platform\n",
        "import distro\n",
        "\n",
        "os_name = platform.system()\n",
        "processor_architecture = platform.machine()\n",
        "machine_name = platform.node()\n",
        "python_version = platform.python_version()\n",
        "system_alias = platform.system_alias(platform.system(), platform.release(), platform.version())\n",
        "processor_name = platform.processor()\n",
        "system_info = platform.uname()\n",
        "linux_distribution = distro.linux_distribution()\n",
        "\n",
        "# Print the system information\n",
        "print(\"Operating System:\", os_name)\n",
        "print(\"Processor Architecture:\", processor_architecture)\n",
        "print(\"Machine Name:\", machine_name)\n",
        "print(\"Python Version:\", python_version)\n",
        "print(\"System Alias:\", system_alias)\n",
        "print(\"Processor Name:\", processor_name)\n",
        "print(\"System Information:\", system_info)\n",
        "print(\"Linux Distribution:\", linux_distribution)\n"
      ]
    },
    {
      "cell_type": "code",
      "source": [
        "import psutil\n",
        "# Get all available methods and functions in psutil\n",
        "psutil_methods = [method for method in dir(psutil) if callable(getattr(psutil, method))]\n",
        "# Print all psutil methods and functions\n",
        "print(\"Available psutil methods and functions:\")\n",
        "for method in psutil_methods:\n",
        "    print(method)"
      ],
      "metadata": {
        "id": "WdWhLiAVD6lY"
      },
      "execution_count": null,
      "outputs": []
    },
    {
      "cell_type": "markdown",
      "source": [
        "CPU information"
      ],
      "metadata": {
        "id": "Bw7LNWBzD9I6"
      }
    },
    {
      "cell_type": "code",
      "source": [
        "import psutil\n",
        "\n",
        "cpu_busy_time = psutil._cpu_busy_time\n",
        "cpu_times_deltas = psutil._cpu_times_deltas\n",
        "cpu_tot_time = psutil._cpu_tot_time\n",
        "\n",
        "cpu_cores = psutil.cpu_count(logical=False)\n",
        "cpu_threads = psutil.cpu_count(logical=True)\n",
        "cpu_freq = psutil.cpu_freq()\n",
        "cpu_percent = psutil.cpu_percent()\n",
        "cpu_stats = psutil.cpu_stats()\n",
        "cpu_times = psutil.cpu_times()\n",
        "cpu_times_percent = psutil.cpu_times_percent()\n",
        "\n",
        "# Print the CPU information\n",
        "print(\"CPU Information:\\n\")\n",
        "print(f\"    Physical Cores: {cpu_cores}\")\n",
        "print(f\"    Logical Cores: {cpu_threads}\")\n",
        "print(f\"    Frequency (MHz): {cpu_freq.current:.2f}\")\n",
        "print(f\"    Max Frequency (MHz): {cpu_freq.max:.2f}\")\n",
        "print(f\"    Min Frequency (MHz): {cpu_freq.min:.2f}\")\n",
        "print(f\"    CPU Usage (%): {cpu_percent}\")\n",
        "print(f\"-------------------------------------------------\\n\")\n",
        "print(f\"    CPU stats: {cpu_stats}\")\n",
        "print(f\"    CPU times: {cpu_times}\")\n",
        "print(f\"    CPU times percent: {cpu_times_percent}\")\n",
        "print(f\"-------------------------------------------------\\n\")\n",
        "print(f\"    CPU stats: {cpu_busy_time}\")\n",
        "print(f\"    CPU times: {cpu_times_deltas}\")\n",
        "print(f\"    CPU times percent: {cpu_tot_time}\")"
      ],
      "metadata": {
        "id": "tnbBKSFTEGco"
      },
      "execution_count": null,
      "outputs": []
    },
    {
      "cell_type": "markdown",
      "source": [
        "Disk information"
      ],
      "metadata": {
        "id": "kN6QDnvYGxgc"
      }
    },
    {
      "cell_type": "code",
      "source": [
        "print(psutil.disk_io_counters())\n",
        "print(psutil.disk_partitions())\n",
        "print(psutil.disk_usage('/content'))"
      ],
      "metadata": {
        "id": "xNtieKLdDSmI"
      },
      "execution_count": null,
      "outputs": []
    },
    {
      "cell_type": "markdown",
      "source": [
        "Network information"
      ],
      "metadata": {
        "id": "m83UmUABG4Sd"
      }
    },
    {
      "cell_type": "code",
      "source": [
        "print(psutil.net_connections())\n",
        "print(psutil.net_if_addrs())\n",
        "print(psutil.net_if_stats())\n",
        "print(psutil.net_io_counters())"
      ],
      "metadata": {
        "id": "3Ch9aMXsG9Ef"
      },
      "execution_count": null,
      "outputs": []
    },
    {
      "cell_type": "markdown",
      "source": [
        "Current process info"
      ],
      "metadata": {
        "id": "vwIolX7kHTBQ"
      }
    },
    {
      "cell_type": "code",
      "source": [
        "ALL_CURRENT_PROCESS = psutil.pids()\n",
        "print(ALL_CURRENT_PROCESS)\n",
        "print(psutil.pid_exists(ALL_CURRENT_PROCESS[0]))"
      ],
      "metadata": {
        "id": "yhbSW6fyHV_P"
      },
      "execution_count": null,
      "outputs": []
    },
    {
      "cell_type": "markdown",
      "source": [
        "Memory information"
      ],
      "metadata": {
        "id": "o62YyppLHwNp"
      }
    },
    {
      "cell_type": "code",
      "source": [
        "print(f\"SWAP MEMORY: {psutil.swap_memory()}\\n\")\n",
        "print(\"PID information \\n\")\n",
        "print(psutil.test())\n",
        "print(\"Users information \\n\")\n",
        "print(psutil.users())\n",
        "print(f\"VIRTUAL MEMORY: {psutil.virtual_memory()}\\n\")"
      ],
      "metadata": {
        "id": "y-5I2MBkHvr5"
      },
      "execution_count": null,
      "outputs": []
    }
  ]
}